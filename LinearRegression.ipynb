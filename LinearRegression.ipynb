{
 "cells": [
  {
   "cell_type": "markdown",
   "metadata": {},
   "source": [
    "# import package"
   ]
  },
  {
   "cell_type": "code",
   "execution_count": 1,
   "metadata": {},
   "outputs": [],
   "source": [
    "from sklearn import datasets, linear_model\n",
    "from sklearn.metrics import mean_squared_error, r2_score\n",
    "from math import sqrt\n",
    "import pandas as pd\n",
    "import numpy as np\n",
    "import os\n",
    "import matplotlib.pyplot as plt\n",
    "\n",
    "%matplotlib inline"
   ]
  },
  {
   "cell_type": "markdown",
   "metadata": {},
   "source": [
    "# simple test"
   ]
  },
  {
   "cell_type": "code",
   "execution_count": 2,
   "metadata": {},
   "outputs": [
    {
     "name": "stdout",
     "output_type": "stream",
     "text": [
      "A = [25 29 16 31 22], ndim = 1\n",
      "B = [26 38 15 26 19], ndim = 1\n"
     ]
    }
   ],
   "source": [
    "# Immutable random number\n",
    "np.random.seed(1234)\n",
    "# random integer\n",
    "data_A = np.random.randint(10,40,size=20)\n",
    "data_B = np.random.randint(10,40,size=20)\n",
    "\n",
    "print('A = {}, ndim = {}'.format(data_A[:5],data_A.ndim),'B = {}, ndim = {}'.format(data_B[:5],data_B.ndim),sep='\\n')"
   ]
  },
  {
   "cell_type": "code",
   "execution_count": 3,
   "metadata": {},
   "outputs": [],
   "source": [
    "# transfer ndim to 2D    -----\n",
    "\n",
    "# Way1\n",
    "data_A_2D = np.mat(data_A).T\n",
    "data_B_2D = np.mat(data_B).T\n",
    "\n",
    "# Way2\n",
    "data_A_2D = np.reshape(data_A,(len(data_A),1))\n",
    "data_B_2D = np.reshape(data_B,(len(data_B),1))\n",
    "\n",
    "X,Y = data_A_2D,data_B_2D"
   ]
  },
  {
   "cell_type": "code",
   "execution_count": 4,
   "metadata": {},
   "outputs": [
    {
     "name": "stdout",
     "output_type": "stream",
     "text": [
      "MSE\t: 66.8467044823972\n",
      "RMSE\t: 8.175983395433066\n",
      "R2\t: 0.020238108059108195\n"
     ]
    }
   ],
   "source": [
    "# train & Model performance\n",
    "\n",
    "lm = linear_model.LinearRegression()\n",
    "lm.fit(X, Y)\n",
    "\n",
    "mse  = np.mean((lm.predict(X)-Y) ** 2)\n",
    "RMSE = sqrt(mse)\n",
    "r_squared = lm.score(X,Y)\n",
    "print('MSE\\t:',mse)\n",
    "print('RMSE\\t:',RMSE)\n",
    "print('R2\\t:',r_squared)"
   ]
  },
  {
   "cell_type": "markdown",
   "metadata": {},
   "source": [
    "# test model by using iris data"
   ]
  },
  {
   "cell_type": "code",
   "execution_count": 5,
   "metadata": {},
   "outputs": [
    {
     "name": "stdout",
     "output_type": "stream",
     "text": [
      "<class 'numpy.ndarray'>\n",
      "['sepal length (cm)', 'sepal width (cm)', 'petal length (cm)', 'petal width (cm)']\n"
     ]
    }
   ],
   "source": [
    "iris = datasets.load_iris()\n",
    "print(type(iris.data))\n",
    "print(iris.feature_names)"
   ]
  },
  {
   "cell_type": "code",
   "execution_count": 6,
   "metadata": {},
   "outputs": [
    {
     "data": {
      "text/html": [
       "<div>\n",
       "<style scoped>\n",
       "    .dataframe tbody tr th:only-of-type {\n",
       "        vertical-align: middle;\n",
       "    }\n",
       "\n",
       "    .dataframe tbody tr th {\n",
       "        vertical-align: top;\n",
       "    }\n",
       "\n",
       "    .dataframe thead th {\n",
       "        text-align: right;\n",
       "    }\n",
       "</style>\n",
       "<table border=\"1\" class=\"dataframe\">\n",
       "  <thead>\n",
       "    <tr style=\"text-align: right;\">\n",
       "      <th></th>\n",
       "      <th>sepal length (cm)</th>\n",
       "      <th>sepal width (cm)</th>\n",
       "      <th>petal length (cm)</th>\n",
       "      <th>petal width (cm)</th>\n",
       "    </tr>\n",
       "  </thead>\n",
       "  <tbody>\n",
       "    <tr>\n",
       "      <th>0</th>\n",
       "      <td>5.1</td>\n",
       "      <td>3.5</td>\n",
       "      <td>1.4</td>\n",
       "      <td>0.2</td>\n",
       "    </tr>\n",
       "    <tr>\n",
       "      <th>1</th>\n",
       "      <td>4.9</td>\n",
       "      <td>3.0</td>\n",
       "      <td>1.4</td>\n",
       "      <td>0.2</td>\n",
       "    </tr>\n",
       "    <tr>\n",
       "      <th>2</th>\n",
       "      <td>4.7</td>\n",
       "      <td>3.2</td>\n",
       "      <td>1.3</td>\n",
       "      <td>0.2</td>\n",
       "    </tr>\n",
       "    <tr>\n",
       "      <th>3</th>\n",
       "      <td>4.6</td>\n",
       "      <td>3.1</td>\n",
       "      <td>1.5</td>\n",
       "      <td>0.2</td>\n",
       "    </tr>\n",
       "    <tr>\n",
       "      <th>4</th>\n",
       "      <td>5.0</td>\n",
       "      <td>3.6</td>\n",
       "      <td>1.4</td>\n",
       "      <td>0.2</td>\n",
       "    </tr>\n",
       "  </tbody>\n",
       "</table>\n",
       "</div>"
      ],
      "text/plain": [
       "   sepal length (cm)  sepal width (cm)  petal length (cm)  petal width (cm)\n",
       "0                5.1               3.5                1.4               0.2\n",
       "1                4.9               3.0                1.4               0.2\n",
       "2                4.7               3.2                1.3               0.2\n",
       "3                4.6               3.1                1.5               0.2\n",
       "4                5.0               3.6                1.4               0.2"
      ]
     },
     "execution_count": 6,
     "metadata": {},
     "output_type": "execute_result"
    }
   ],
   "source": [
    "# revier data\n",
    "iris_df = pd.DataFrame(iris.data, columns=iris.feature_names)\n",
    "iris_df.head()"
   ]
  },
  {
   "cell_type": "code",
   "execution_count": 7,
   "metadata": {},
   "outputs": [
    {
     "data": {
      "text/plain": [
       "0.759954645772515"
      ]
     },
     "execution_count": 7,
     "metadata": {},
     "output_type": "execute_result"
    }
   ],
   "source": [
    "# run\n",
    "x, y = iris_df[list(iris_df)[2]],iris_df[list(iris_df)[0]]\n",
    "x1, y1 =np.reshape(x.values,(len(x.values),1)),np.reshape(y.values,(len(y.values),1))\n",
    "\n",
    "# sepal length (cm) vs petal length (cm)\n",
    "\n",
    "lm = linear_model.LinearRegression()\n",
    "lm.fit(x1, y1)\n",
    "lm.score(x1, y1)"
   ]
  },
  {
   "cell_type": "code",
   "execution_count": 8,
   "metadata": {},
   "outputs": [
    {
     "name": "stdout",
     "output_type": "stream",
     "text": [
      "MSE\t: 0.16350022510554504\n",
      "RMSE\t: 0.40435161073692416\n",
      "R2\t: 0.759954645772515\n"
     ]
    }
   ],
   "source": [
    "mse  = np.mean((lm.predict(x1) - y1) ** 2)\n",
    "RMSE = sqrt(mse)\n",
    "r_squared = lm.score(x1, y1)\n",
    "print('MSE\\t:',mse)\n",
    "print('RMSE\\t:',RMSE)\n",
    "print('R2\\t:',r_squared)"
   ]
  },
  {
   "cell_type": "code",
   "execution_count": 9,
   "metadata": {},
   "outputs": [
    {
     "data": {
      "text/plain": [
       "<matplotlib.legend.Legend at 0x1a97be5b548>"
      ]
     },
     "execution_count": 9,
     "metadata": {},
     "output_type": "execute_result"
    },
    {
     "data": {
      "image/png": "[encoded data removed]",
      "text/plain": [
       "<Figure size 432x288 with 1 Axes>"
      ]
     },
     "metadata": {
      "needs_background": "light"
     },
     "output_type": "display_data"
    }
   ],
   "source": [
    "# plot it\n",
    "\n",
    "plt.figure()\n",
    "plt.scatter(x1, y1,  color='black',label = 'train data')\n",
    "plt.plot(x1, lm.predict(x1), color='blue', linewidth=3,label = 'x data compare')\n",
    "plt.title('sepal length(cm) vs petal length(cm)')\n",
    "\n",
    "plt.annotate('RMSE = '+str(RMSE), xy=(0, 0), xycoords='figure fraction', xytext=(0.09, 0.83),)\n",
    "plt.annotate('R2 = '+str(r_squared), xy=(0, 0), xycoords='figure fraction', xytext=(0.09, 0.75))\n",
    "plt.legend(bbox_to_anchor=(1.05, 1), loc=2, borderaxespad=0.)\n",
    "# if u need to save\n",
    "# plt.savefig('{}plot1.png'.format(plot_save_path), dpi=300, bbox_inches='tight')\n"
   ]
  }
 ],
 "metadata": {
  "kernelspec": {
   "display_name": "Python 3",
   "language": "python",
   "name": "python3"
  },
  "language_info": {
   "codemirror_mode": {
    "name": "ipython",
    "version": 3
   },
   "file_extension": ".py",
   "mimetype": "text/x-python",
   "name": "python",
   "nbconvert_exporter": "python",
   "pygments_lexer": "ipython3",
   "version": "3.7.6"
  }
 },
 "nbformat": 4,
 "nbformat_minor": 4
}
